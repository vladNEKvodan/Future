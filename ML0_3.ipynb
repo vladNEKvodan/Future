{
  "nbformat": 4,
  "nbformat_minor": 0,
  "metadata": {
    "colab": {
      "provenance": [],
      "collapsed_sections": []
    },
    "kernelspec": {
      "name": "python3",
      "display_name": "Python 3"
    },
    "language_info": {
      "name": "python"
    }
  },
  "cells": [
    {
      "cell_type": "markdown",
      "source": [
        "Максаев Владислав Андреевич ПИ20-1"
      ],
      "metadata": {
        "id": "rEAYpDoz58hb"
      }
    },
    {
      "cell_type": "code",
      "execution_count": 1,
      "metadata": {
        "id": "8rPM0fvU5ed7"
      },
      "outputs": [],
      "source": [
        "import pandas as pd\n",
        "import numpy as np\n",
        "import sklearn as skl\n",
        "import matplotlib.pyplot as plt"
      ]
    },
    {
      "cell_type": "code",
      "source": [
        "from sklearn.preprocessing import MinMaxScaler"
      ],
      "metadata": {
        "id": "Y7mwzits6FNB"
      },
      "execution_count": 2,
      "outputs": []
    },
    {
      "cell_type": "code",
      "source": [
        "from sklearn.preprocessing import StandardScaler"
      ],
      "metadata": {
        "id": "zTMp2zg_6FcR"
      },
      "execution_count": 3,
      "outputs": []
    },
    {
      "cell_type": "markdown",
      "source": [
        "Задание 1:"
      ],
      "metadata": {
        "id": "kQWJ295S7NUu"
      }
    },
    {
      "cell_type": "code",
      "source": [
        "df = pd.read_excel('Вариант 1.xlsx', header = 2)\n",
        "df"
      ],
      "metadata": {
        "colab": {
          "base_uri": "https://localhost:8080/",
          "height": 424
        },
        "id": "VuW6uc1y5zU8",
        "outputId": "30223ad4-d892-4596-fc40-fa5c2dd60746"
      },
      "execution_count": 5,
      "outputs": [
        {
          "output_type": "execute_result",
          "data": {
            "text/plain": [
              "           №  № школы Класс  Пол  Номер варианта  Задания с кратким ответом  \\\n",
              "0        1.0    117.0    11    М           341.0  1+++--1+-++---0---------0   \n",
              "1        2.0    148.0   12А    М           338.0  1+---+0--+---+0----++-+-0   \n",
              "2        3.0    152.0    13    Ж           104.0  2-----0--+----1---------1   \n",
              "3        4.0    152.0    13    М           104.0  1+--+-0++-----2----++---0   \n",
              "4        5.0    132.0    11    М           337.0  1++---0-+++---1----+----2   \n",
              "...      ...      ...   ...  ...             ...                        ...   \n",
              "3044  3045.0    147.0    11    Ж           340.0  2+++++5+++++++2+++++++++4   \n",
              "3045  3046.0    147.0    11    Ж           338.0  2+++++5+++++++2+++++++++4   \n",
              "3046  3047.0    147.0    11    Ж           337.0  2+++++5+++++++2+++++++++4   \n",
              "3047  3048.0    144.0   11А    Ж           338.0  2+++++5+++++++2+++++++++4   \n",
              "3048     NaN      NaN   NaN  NaN             NaN                        NaN   \n",
              "\n",
              "                         Задания с развёрнутым ответом      Устная часть  \\\n",
              "0     0(1)0(3)0(1)0(3)0(2)0(2)0(3)0(3)0(2)0(2)0(1)0(1)               NaN   \n",
              "1     0(1)0(3)0(1)0(3)0(2)0(2)0(3)0(3)0(2)0(2)0(1)0(1)               NaN   \n",
              "2     0(1)0(3)0(1)0(3)0(2)0(2)0(3)1(3)0(2)1(2)1(1)1(1)               NaN   \n",
              "3     0(1)0(3)0(1)0(3)0(2)0(2)0(3)0(3)0(2)0(2)0(1)0(1)               NaN   \n",
              "4     0(1)0(3)0(1)0(3)0(2)0(2)0(3)0(3)0(2)0(2)0(1)0(1)               NaN   \n",
              "...                                                ...               ...   \n",
              "3044  1(1)3(3)1(1)3(3)2(2)2(2)3(3)3(3)2(2)2(2)1(1)1(1)               NaN   \n",
              "3045  1(1)3(3)1(1)3(3)2(2)2(2)3(3)3(3)2(2)2(2)1(1)1(1)               NaN   \n",
              "3046  1(1)3(3)1(1)3(3)2(2)2(2)3(3)3(3)2(2)2(2)1(1)1(1)               NaN   \n",
              "3047  1(1)3(3)1(1)3(3)2(2)2(2)3(3)3(3)2(2)2(2)1(1)1(1)               NaN   \n",
              "3048                                               NaN  Среднее значение   \n",
              "\n",
              "      Первичный балл        Балл  Минимальный балл  \n",
              "0                8.0   20.000000              24.0  \n",
              "1                8.0   20.000000              24.0  \n",
              "2                9.0   22.000000              24.0  \n",
              "3                9.0   22.000000              24.0  \n",
              "4               10.0   24.000000              24.0  \n",
              "...              ...         ...               ...  \n",
              "3044            58.0  100.000000              24.0  \n",
              "3045            58.0  100.000000              24.0  \n",
              "3046            58.0  100.000000              24.0  \n",
              "3047            58.0  100.000000              24.0  \n",
              "3048             NaN   72.769029               NaN  \n",
              "\n",
              "[3049 rows x 11 columns]"
            ],
            "text/html": [
              "\n",
              "  <div id=\"df-6e0f5762-3d0f-4296-923e-b2922d2def21\">\n",
              "    <div class=\"colab-df-container\">\n",
              "      <div>\n",
              "<style scoped>\n",
              "    .dataframe tbody tr th:only-of-type {\n",
              "        vertical-align: middle;\n",
              "    }\n",
              "\n",
              "    .dataframe tbody tr th {\n",
              "        vertical-align: top;\n",
              "    }\n",
              "\n",
              "    .dataframe thead th {\n",
              "        text-align: right;\n",
              "    }\n",
              "</style>\n",
              "<table border=\"1\" class=\"dataframe\">\n",
              "  <thead>\n",
              "    <tr style=\"text-align: right;\">\n",
              "      <th></th>\n",
              "      <th>№</th>\n",
              "      <th>№ школы</th>\n",
              "      <th>Класс</th>\n",
              "      <th>Пол</th>\n",
              "      <th>Номер варианта</th>\n",
              "      <th>Задания с кратким ответом</th>\n",
              "      <th>Задания с развёрнутым ответом</th>\n",
              "      <th>Устная часть</th>\n",
              "      <th>Первичный балл</th>\n",
              "      <th>Балл</th>\n",
              "      <th>Минимальный балл</th>\n",
              "    </tr>\n",
              "  </thead>\n",
              "  <tbody>\n",
              "    <tr>\n",
              "      <th>0</th>\n",
              "      <td>1.0</td>\n",
              "      <td>117.0</td>\n",
              "      <td>11</td>\n",
              "      <td>М</td>\n",
              "      <td>341.0</td>\n",
              "      <td>1+++--1+-++---0---------0</td>\n",
              "      <td>0(1)0(3)0(1)0(3)0(2)0(2)0(3)0(3)0(2)0(2)0(1)0(1)</td>\n",
              "      <td>NaN</td>\n",
              "      <td>8.0</td>\n",
              "      <td>20.000000</td>\n",
              "      <td>24.0</td>\n",
              "    </tr>\n",
              "    <tr>\n",
              "      <th>1</th>\n",
              "      <td>2.0</td>\n",
              "      <td>148.0</td>\n",
              "      <td>12А</td>\n",
              "      <td>М</td>\n",
              "      <td>338.0</td>\n",
              "      <td>1+---+0--+---+0----++-+-0</td>\n",
              "      <td>0(1)0(3)0(1)0(3)0(2)0(2)0(3)0(3)0(2)0(2)0(1)0(1)</td>\n",
              "      <td>NaN</td>\n",
              "      <td>8.0</td>\n",
              "      <td>20.000000</td>\n",
              "      <td>24.0</td>\n",
              "    </tr>\n",
              "    <tr>\n",
              "      <th>2</th>\n",
              "      <td>3.0</td>\n",
              "      <td>152.0</td>\n",
              "      <td>13</td>\n",
              "      <td>Ж</td>\n",
              "      <td>104.0</td>\n",
              "      <td>2-----0--+----1---------1</td>\n",
              "      <td>0(1)0(3)0(1)0(3)0(2)0(2)0(3)1(3)0(2)1(2)1(1)1(1)</td>\n",
              "      <td>NaN</td>\n",
              "      <td>9.0</td>\n",
              "      <td>22.000000</td>\n",
              "      <td>24.0</td>\n",
              "    </tr>\n",
              "    <tr>\n",
              "      <th>3</th>\n",
              "      <td>4.0</td>\n",
              "      <td>152.0</td>\n",
              "      <td>13</td>\n",
              "      <td>М</td>\n",
              "      <td>104.0</td>\n",
              "      <td>1+--+-0++-----2----++---0</td>\n",
              "      <td>0(1)0(3)0(1)0(3)0(2)0(2)0(3)0(3)0(2)0(2)0(1)0(1)</td>\n",
              "      <td>NaN</td>\n",
              "      <td>9.0</td>\n",
              "      <td>22.000000</td>\n",
              "      <td>24.0</td>\n",
              "    </tr>\n",
              "    <tr>\n",
              "      <th>4</th>\n",
              "      <td>5.0</td>\n",
              "      <td>132.0</td>\n",
              "      <td>11</td>\n",
              "      <td>М</td>\n",
              "      <td>337.0</td>\n",
              "      <td>1++---0-+++---1----+----2</td>\n",
              "      <td>0(1)0(3)0(1)0(3)0(2)0(2)0(3)0(3)0(2)0(2)0(1)0(1)</td>\n",
              "      <td>NaN</td>\n",
              "      <td>10.0</td>\n",
              "      <td>24.000000</td>\n",
              "      <td>24.0</td>\n",
              "    </tr>\n",
              "    <tr>\n",
              "      <th>...</th>\n",
              "      <td>...</td>\n",
              "      <td>...</td>\n",
              "      <td>...</td>\n",
              "      <td>...</td>\n",
              "      <td>...</td>\n",
              "      <td>...</td>\n",
              "      <td>...</td>\n",
              "      <td>...</td>\n",
              "      <td>...</td>\n",
              "      <td>...</td>\n",
              "      <td>...</td>\n",
              "    </tr>\n",
              "    <tr>\n",
              "      <th>3044</th>\n",
              "      <td>3045.0</td>\n",
              "      <td>147.0</td>\n",
              "      <td>11</td>\n",
              "      <td>Ж</td>\n",
              "      <td>340.0</td>\n",
              "      <td>2+++++5+++++++2+++++++++4</td>\n",
              "      <td>1(1)3(3)1(1)3(3)2(2)2(2)3(3)3(3)2(2)2(2)1(1)1(1)</td>\n",
              "      <td>NaN</td>\n",
              "      <td>58.0</td>\n",
              "      <td>100.000000</td>\n",
              "      <td>24.0</td>\n",
              "    </tr>\n",
              "    <tr>\n",
              "      <th>3045</th>\n",
              "      <td>3046.0</td>\n",
              "      <td>147.0</td>\n",
              "      <td>11</td>\n",
              "      <td>Ж</td>\n",
              "      <td>338.0</td>\n",
              "      <td>2+++++5+++++++2+++++++++4</td>\n",
              "      <td>1(1)3(3)1(1)3(3)2(2)2(2)3(3)3(3)2(2)2(2)1(1)1(1)</td>\n",
              "      <td>NaN</td>\n",
              "      <td>58.0</td>\n",
              "      <td>100.000000</td>\n",
              "      <td>24.0</td>\n",
              "    </tr>\n",
              "    <tr>\n",
              "      <th>3046</th>\n",
              "      <td>3047.0</td>\n",
              "      <td>147.0</td>\n",
              "      <td>11</td>\n",
              "      <td>Ж</td>\n",
              "      <td>337.0</td>\n",
              "      <td>2+++++5+++++++2+++++++++4</td>\n",
              "      <td>1(1)3(3)1(1)3(3)2(2)2(2)3(3)3(3)2(2)2(2)1(1)1(1)</td>\n",
              "      <td>NaN</td>\n",
              "      <td>58.0</td>\n",
              "      <td>100.000000</td>\n",
              "      <td>24.0</td>\n",
              "    </tr>\n",
              "    <tr>\n",
              "      <th>3047</th>\n",
              "      <td>3048.0</td>\n",
              "      <td>144.0</td>\n",
              "      <td>11А</td>\n",
              "      <td>Ж</td>\n",
              "      <td>338.0</td>\n",
              "      <td>2+++++5+++++++2+++++++++4</td>\n",
              "      <td>1(1)3(3)1(1)3(3)2(2)2(2)3(3)3(3)2(2)2(2)1(1)1(1)</td>\n",
              "      <td>NaN</td>\n",
              "      <td>58.0</td>\n",
              "      <td>100.000000</td>\n",
              "      <td>24.0</td>\n",
              "    </tr>\n",
              "    <tr>\n",
              "      <th>3048</th>\n",
              "      <td>NaN</td>\n",
              "      <td>NaN</td>\n",
              "      <td>NaN</td>\n",
              "      <td>NaN</td>\n",
              "      <td>NaN</td>\n",
              "      <td>NaN</td>\n",
              "      <td>NaN</td>\n",
              "      <td>Среднее значение</td>\n",
              "      <td>NaN</td>\n",
              "      <td>72.769029</td>\n",
              "      <td>NaN</td>\n",
              "    </tr>\n",
              "  </tbody>\n",
              "</table>\n",
              "<p>3049 rows × 11 columns</p>\n",
              "</div>\n",
              "      <button class=\"colab-df-convert\" onclick=\"convertToInteractive('df-6e0f5762-3d0f-4296-923e-b2922d2def21')\"\n",
              "              title=\"Convert this dataframe to an interactive table.\"\n",
              "              style=\"display:none;\">\n",
              "        \n",
              "  <svg xmlns=\"http://www.w3.org/2000/svg\" height=\"24px\"viewBox=\"0 0 24 24\"\n",
              "       width=\"24px\">\n",
              "    <path d=\"M0 0h24v24H0V0z\" fill=\"none\"/>\n",
              "    <path d=\"M18.56 5.44l.94 2.06.94-2.06 2.06-.94-2.06-.94-.94-2.06-.94 2.06-2.06.94zm-11 1L8.5 8.5l.94-2.06 2.06-.94-2.06-.94L8.5 2.5l-.94 2.06-2.06.94zm10 10l.94 2.06.94-2.06 2.06-.94-2.06-.94-.94-2.06-.94 2.06-2.06.94z\"/><path d=\"M17.41 7.96l-1.37-1.37c-.4-.4-.92-.59-1.43-.59-.52 0-1.04.2-1.43.59L10.3 9.45l-7.72 7.72c-.78.78-.78 2.05 0 2.83L4 21.41c.39.39.9.59 1.41.59.51 0 1.02-.2 1.41-.59l7.78-7.78 2.81-2.81c.8-.78.8-2.07 0-2.86zM5.41 20L4 18.59l7.72-7.72 1.47 1.35L5.41 20z\"/>\n",
              "  </svg>\n",
              "      </button>\n",
              "      \n",
              "  <style>\n",
              "    .colab-df-container {\n",
              "      display:flex;\n",
              "      flex-wrap:wrap;\n",
              "      gap: 12px;\n",
              "    }\n",
              "\n",
              "    .colab-df-convert {\n",
              "      background-color: #E8F0FE;\n",
              "      border: none;\n",
              "      border-radius: 50%;\n",
              "      cursor: pointer;\n",
              "      display: none;\n",
              "      fill: #1967D2;\n",
              "      height: 32px;\n",
              "      padding: 0 0 0 0;\n",
              "      width: 32px;\n",
              "    }\n",
              "\n",
              "    .colab-df-convert:hover {\n",
              "      background-color: #E2EBFA;\n",
              "      box-shadow: 0px 1px 2px rgba(60, 64, 67, 0.3), 0px 1px 3px 1px rgba(60, 64, 67, 0.15);\n",
              "      fill: #174EA6;\n",
              "    }\n",
              "\n",
              "    [theme=dark] .colab-df-convert {\n",
              "      background-color: #3B4455;\n",
              "      fill: #D2E3FC;\n",
              "    }\n",
              "\n",
              "    [theme=dark] .colab-df-convert:hover {\n",
              "      background-color: #434B5C;\n",
              "      box-shadow: 0px 1px 3px 1px rgba(0, 0, 0, 0.15);\n",
              "      filter: drop-shadow(0px 1px 2px rgba(0, 0, 0, 0.3));\n",
              "      fill: #FFFFFF;\n",
              "    }\n",
              "  </style>\n",
              "\n",
              "      <script>\n",
              "        const buttonEl =\n",
              "          document.querySelector('#df-6e0f5762-3d0f-4296-923e-b2922d2def21 button.colab-df-convert');\n",
              "        buttonEl.style.display =\n",
              "          google.colab.kernel.accessAllowed ? 'block' : 'none';\n",
              "\n",
              "        async function convertToInteractive(key) {\n",
              "          const element = document.querySelector('#df-6e0f5762-3d0f-4296-923e-b2922d2def21');\n",
              "          const dataTable =\n",
              "            await google.colab.kernel.invokeFunction('convertToInteractive',\n",
              "                                                     [key], {});\n",
              "          if (!dataTable) return;\n",
              "\n",
              "          const docLinkHtml = 'Like what you see? Visit the ' +\n",
              "            '<a target=\"_blank\" href=https://colab.research.google.com/notebooks/data_table.ipynb>data table notebook</a>'\n",
              "            + ' to learn more about interactive tables.';\n",
              "          element.innerHTML = '';\n",
              "          dataTable['output_type'] = 'display_data';\n",
              "          await google.colab.output.renderOutput(dataTable, element);\n",
              "          const docLink = document.createElement('div');\n",
              "          docLink.innerHTML = docLinkHtml;\n",
              "          element.appendChild(docLink);\n",
              "        }\n",
              "      </script>\n",
              "    </div>\n",
              "  </div>\n",
              "  "
            ]
          },
          "metadata": {},
          "execution_count": 5
        }
      ]
    },
    {
      "cell_type": "markdown",
      "source": [
        "Задание 2:"
      ],
      "metadata": {
        "id": "IkiOVswD7Pem"
      }
    },
    {
      "cell_type": "code",
      "source": [
        "df['Балл'].describe()"
      ],
      "metadata": {
        "colab": {
          "base_uri": "https://localhost:8080/"
        },
        "id": "FhS_K-C37Qbl",
        "outputId": "b72863a4-3ccd-4245-c124-90e6165e175e"
      },
      "execution_count": null,
      "outputs": [
        {
          "output_type": "execute_result",
          "data": {
            "text/plain": [
              "count    3049.000000\n",
              "mean       72.769029\n",
              "std        13.662666\n",
              "min        20.000000\n",
              "25%        64.000000\n",
              "50%        72.000000\n",
              "75%        82.000000\n",
              "max       100.000000\n",
              "Name: Балл, dtype: float64"
            ]
          },
          "metadata": {},
          "execution_count": 5
        }
      ]
    },
    {
      "cell_type": "markdown",
      "source": [
        "Задание 3:"
      ],
      "metadata": {
        "id": "H-wdGNYy8MbP"
      }
    },
    {
      "cell_type": "code",
      "source": [
        "sr = df['Балл'].mean()\n",
        "sr"
      ],
      "metadata": {
        "colab": {
          "base_uri": "https://localhost:8080/"
        },
        "id": "gbiD7N2J8Nis",
        "outputId": "89a98a0b-5745-4a15-9088-f5e3303a6048"
      },
      "execution_count": 8,
      "outputs": [
        {
          "output_type": "execute_result",
          "data": {
            "text/plain": [
              "72.76902887139107"
            ]
          },
          "metadata": {},
          "execution_count": 8
        }
      ]
    },
    {
      "cell_type": "code",
      "source": [
        "summa = (df['Балл']) < sr\n",
        "ot = (summa / (df.shape[0] - 1) * 100).sum()\n",
        "ot"
      ],
      "metadata": {
        "colab": {
          "base_uri": "https://localhost:8080/"
        },
        "id": "YIAN0gRN-ldD",
        "outputId": "47a7d4ff-e0c7-46d2-a615-05ad3c414a88"
      },
      "execution_count": 9,
      "outputs": [
        {
          "output_type": "execute_result",
          "data": {
            "text/plain": [
              "51.279527559055104"
            ]
          },
          "metadata": {},
          "execution_count": 9
        }
      ]
    },
    {
      "cell_type": "markdown",
      "source": [
        "Задание 4:"
      ],
      "metadata": {
        "id": "pSQjjN9Nhp2S"
      }
    },
    {
      "cell_type": "code",
      "source": [
        "ne_sdali = (df['Балл'] < 24).sum()\n",
        "fin = ne_sdali * 100 / (df.shape[0] - 1)\n",
        "fin"
      ],
      "metadata": {
        "colab": {
          "base_uri": "https://localhost:8080/"
        },
        "id": "z2GBIln9hq8O",
        "outputId": "3616e246-86cd-476f-d22c-9cf7ec27b48b"
      },
      "execution_count": null,
      "outputs": [
        {
          "output_type": "execute_result",
          "data": {
            "text/plain": [
              "0.13123359580052493"
            ]
          },
          "metadata": {},
          "execution_count": 90
        }
      ]
    },
    {
      "cell_type": "markdown",
      "source": [
        "Задание 5:"
      ],
      "metadata": {
        "id": "7wYw2J2ciXIE"
      }
    },
    {
      "cell_type": "code",
      "source": [
        "sdali = (df['Балл'] <= 26).sum()\n",
        "fin_2 = sdali * 100 / (df.shape[0] - 1)\n",
        "fin_2"
      ],
      "metadata": {
        "colab": {
          "base_uri": "https://localhost:8080/"
        },
        "id": "R5op1h0ziYEE",
        "outputId": "294d5465-0bce-4b88-eed2-adc71467c304"
      },
      "execution_count": null,
      "outputs": [
        {
          "output_type": "execute_result",
          "data": {
            "text/plain": [
              "0.26246719160104987"
            ]
          },
          "metadata": {},
          "execution_count": 91
        }
      ]
    },
    {
      "cell_type": "code",
      "source": [
        "labels = ['Не сдали', 'Сдали']"
      ],
      "metadata": {
        "id": "bgIc4e1xyC84"
      },
      "execution_count": null,
      "outputs": []
    },
    {
      "cell_type": "code",
      "source": [
        "value = [ne_sdali, sdali]\n",
        "fig, ax = plt.subplots()\n",
        "ax.pie(value, labels = labels)"
      ],
      "metadata": {
        "colab": {
          "base_uri": "https://localhost:8080/",
          "height": 317
        },
        "id": "sHPsq5anyLDZ",
        "outputId": "1e4a4ae4-3ad7-47e3-c56f-b60c8a608c3d"
      },
      "execution_count": null,
      "outputs": [
        {
          "output_type": "execute_result",
          "data": {
            "text/plain": [
              "([<matplotlib.patches.Wedge at 0x7f868ff1dfd0>,\n",
              "  <matplotlib.patches.Wedge at 0x7f868ff2a410>],\n",
              " [Text(1.0999906451481076, 0.004536583147067177, 'Не сдали'),\n",
              "  Text(-1.0999906455131196, -0.004536494641275864, 'Сдали')])"
            ]
          },
          "metadata": {},
          "execution_count": 11
        },
        {
          "output_type": "display_data",
          "data": {
            "text/plain": [
              "<Figure size 432x288 with 1 Axes>"
            ],
            "image/png": "[encoded data removed]"
          },
          "metadata": {}
        }
      ]
    },
    {
      "cell_type": "markdown",
      "source": [
        "Задание 6:"
      ],
      "metadata": {
        "id": "kPGBKAIv0Q_a"
      }
    },
    {
      "cell_type": "code",
      "source": [
        "import seaborn as sns"
      ],
      "metadata": {
        "id": "i56S96Fx0Sjp"
      },
      "execution_count": null,
      "outputs": []
    },
    {
      "cell_type": "code",
      "source": [
        "sns.kdeplot(data = df['Балл'], label = 'Ядерная оценка')\n",
        "plt.legend()\n",
        "plt.show()"
      ],
      "metadata": {
        "colab": {
          "base_uri": "https://localhost:8080/",
          "height": 279
        },
        "id": "Kx9eA6gS6U5u",
        "outputId": "885ceb64-60cf-454a-d713-cb583137a2ef"
      },
      "execution_count": null,
      "outputs": [
        {
          "output_type": "display_data",
          "data": {
            "text/plain": [
              "<Figure size 432x288 with 1 Axes>"
            ],
            "image/png": "[encoded data removed]"
          },
          "metadata": {
            "needs_background": "light"
          }
        }
      ]
    },
    {
      "cell_type": "markdown",
      "source": [
        "Задание 7:"
      ],
      "metadata": {
        "id": "dPJFj8sp67pV"
      }
    },
    {
      "cell_type": "code",
      "source": [
        "otl = (df['Балл'] >= 70).sum()\n",
        "fin_otl = otl * 100 / (df.shape[0] - 1)\n",
        "horsh = ((df['Балл'] >= 50) & (df['Балл'] <= 69)).sum()\n",
        "fin_horsh = horsh * 100 / (df.shape[0] - 1)\n",
        "udovl = ((df['Балл'] >= 27) & (df['Балл'] <= 49)).sum()\n",
        "fin_udovl = udovl * 100 / (df.shape[0] - 1)\n",
        "ne_sdali = (df['Балл'] <= 26).sum()\n",
        "fin_ne_sdali = ne_sdali * 100 / (df.shape[0] - 1)\n",
        "print(f'Сдали на отлично: {fin_otl}')\n",
        "print(f'Сдали на оценку хорошо: {fin_horsh}')\n",
        "print(f'Сдали на удовлетворительную оценку: {fin_udovl}')\n",
        "print(f'Не сдали экзамен: {fin_ne_sdali}')"
      ],
      "metadata": {
        "colab": {
          "base_uri": "https://localhost:8080/"
        },
        "id": "SpT2fLkl7FIU",
        "outputId": "fb709988-a0a4-48e2-a219-68f30d6d5f51"
      },
      "execution_count": null,
      "outputs": [
        {
          "output_type": "stream",
          "name": "stdout",
          "text": [
            "Сдали на отлично: 60.925196850393704\n",
            "Сдали на оценку хорошо: 34.31758530183727\n",
            "Сдали на удовлетворительную оценку: 4.52755905511811\n",
            "Не сдали экзамен: 0.26246719160104987\n"
          ]
        }
      ]
    },
    {
      "cell_type": "markdown",
      "source": [
        "Задание 8:"
      ],
      "metadata": {
        "id": "Nu2ufuAVDLjQ"
      }
    },
    {
      "cell_type": "code",
      "source": [
        "muz = (df['Пол'] == 'М').sum()\n",
        "fin_muz = muz * 100 / (df.shape[0] - 1)\n",
        "zhen = (df['Пол'] == 'Ж').sum()\n",
        "fin_zhen = zhen * 100 / (df.shape[0] - 1)\n",
        "print(f'Девушек сдавало: {fin_zhen}')\n",
        "print(f'Парней сдавало: {fin_muz}')"
      ],
      "metadata": {
        "colab": {
          "base_uri": "https://localhost:8080/"
        },
        "id": "lMlEAROgDMmM",
        "outputId": "dceac96e-bae8-4670-d757-949d31316327"
      },
      "execution_count": null,
      "outputs": [
        {
          "output_type": "stream",
          "name": "stdout",
          "text": [
            "Девушек сдавало: 57.97244094488189\n",
            "Парней сдавало: 42.02755905511811\n"
          ]
        }
      ]
    },
    {
      "cell_type": "markdown",
      "source": [
        "Задание 9:"
      ],
      "metadata": {
        "id": "9hjx8RqcGM1Y"
      }
    },
    {
      "cell_type": "code",
      "source": [
        "df['№ школы'].nunique()"
      ],
      "metadata": {
        "colab": {
          "base_uri": "https://localhost:8080/"
        },
        "id": "kZZsCBGlGN8o",
        "outputId": "f5243073-6f2d-4b2b-dea4-9424ee43e283"
      },
      "execution_count": null,
      "outputs": [
        {
          "output_type": "execute_result",
          "data": {
            "text/plain": [
              "24"
            ]
          },
          "metadata": {},
          "execution_count": 75
        }
      ]
    }
  ]
}